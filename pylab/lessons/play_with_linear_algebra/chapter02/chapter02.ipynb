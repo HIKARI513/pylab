{
 "cells": [
  {
   "cell_type": "markdown",
   "metadata": {},
   "source": [
    "## 一切从向量开始"
   ]
  },
  {
   "cell_type": "markdown",
   "metadata": {},
   "source": [
    "### 什么是向量\n",
    "\n",
    "\n",
    "向量(Vector)是线性代数研究的基本元素\n",
    "\n",
    "- 可以表示方向，但如果只是表示方向，最多三维就够了\n",
    "- 更加抽象的：n维向量\n",
    "\n",
    "向量就是一组数，这组数的含义由使用者定义\n",
    "\n",
    "空间中的一个点，可以看做从原点指向指向这个点的一个方向\n",
    "\n",
    "不同的视角有不同的看法：\n",
    "\n",
    "- 是一个有向线段\n",
    "- 是空间中的点\n",
    "\n",
    "更加严格的定义：\n",
    "\n",
    "- 和向量相对应，一个数字，称为标量\n",
    "- 代数，用符号表示数。和标量相区别，向量的符号上面画一个箭头\n",
    "- 个别情况，尤其是几何学，我们会考虑向量的起始点\n",
    "\n",
    "行向量和列向量"
   ]
  },
  {
   "cell_type": "code",
   "execution_count": 1,
   "metadata": {},
   "outputs": [],
   "source": [
    "# 实现属于我们自己的向量\n",
    "class Vector:\n",
    "\n",
    "    def __init__(self, lst):\n",
    "        self._values = lst\n",
    "        \n",
    "    def __getitem__(self, index):\n",
    "        \"\"\"取向量的第index个元素\"\"\"\n",
    "        return self._values[index]\n",
    "\n",
    "    def __len__(self):\n",
    "        \"\"\"返回向量长度（有多少个元素）\"\"\"\n",
    "        return len(self._values  )\n",
    "\n",
    "    def __repr__(self):\n",
    "        return \"Vector({})\".format(self._values)\n",
    "\n",
    "    def __str__(self):\n",
    "        return \"({})\".format(\", \".join(str(e) for e in self._values))"
   ]
  },
  {
   "cell_type": "code",
   "execution_count": 2,
   "metadata": {},
   "outputs": [
    {
     "name": "stdout",
     "output_type": "stream",
     "text": [
      "(5, 2)\n"
     ]
    }
   ],
   "source": [
    "u = Vector([5, 2])\n",
    "print(u)"
   ]
  },
  {
   "cell_type": "code",
   "execution_count": 3,
   "metadata": {},
   "outputs": [
    {
     "data": {
      "text/plain": [
       "Vector([5, 2])"
      ]
     },
     "execution_count": 3,
     "metadata": {},
     "output_type": "execute_result"
    }
   ],
   "source": [
    "u"
   ]
  },
  {
   "cell_type": "code",
   "execution_count": 4,
   "metadata": {},
   "outputs": [
    {
     "data": {
      "text/plain": [
       "2"
      ]
     },
     "execution_count": 4,
     "metadata": {},
     "output_type": "execute_result"
    }
   ],
   "source": [
    "len(u)"
   ]
  },
  {
   "cell_type": "code",
   "execution_count": 5,
   "metadata": {},
   "outputs": [
    {
     "data": {
      "text/plain": [
       "(5, 2)"
      ]
     },
     "execution_count": 5,
     "metadata": {},
     "output_type": "execute_result"
    }
   ],
   "source": [
    "u[0], u[1]"
   ]
  },
  {
   "cell_type": "markdown",
   "metadata": {},
   "source": [
    "### 向量基本运算\n",
    "\n",
    "向量的两个最重要的基本运算\n",
    "\n",
    "- 向量加法\n",
    "- 数量乘法"
   ]
  },
  {
   "cell_type": "code",
   "execution_count": 6,
   "metadata": {},
   "outputs": [],
   "source": [
    "# 实现向量的基本运算\n",
    "\n",
    "class Vector:\n",
    "\n",
    "    def __init__(self, lst):\n",
    "        self._values = list(lst)\n",
    "\n",
    "    def __add__(self, another):\n",
    "        \"\"\"向量加法，返回结果向量\"\"\"\n",
    "        assert len(self) == len(another), \\\n",
    "            \"Error in adding. Length of vectors must be same.\"\n",
    "\n",
    "        # return Vector([a + b for a, b in zip(self._values, another._values)])\n",
    "        return Vector([a + b for a, b in zip(self, another)])\n",
    "\n",
    "    def __sub__(self, another):\n",
    "        \"\"\"向量减法，返回结果向量\"\"\"\n",
    "        assert len(self) == len(another), \\\n",
    "            \"Error in subtracting. Length of vectors must be same.\"\n",
    "\n",
    "        return Vector([a - b for a, b in zip(self, another)])\n",
    "\n",
    "    def __mul__(self, k):\n",
    "        \"\"\"返回数量乘法的结果向量：self * k\"\"\"\n",
    "        return Vector([k * e for e in self])\n",
    "\n",
    "    def __rmul__(self, k):\n",
    "        \"\"\"返回数量乘法的结果向量：k * self\"\"\"\n",
    "        return self * k\n",
    "\n",
    "    def __pos__(self):\n",
    "        \"\"\"返回向量取正的结果向量\"\"\"\n",
    "        return 1 * self\n",
    "\n",
    "    def __neg__(self):\n",
    "        \"\"\"返回向量取负的结果向量\"\"\"\n",
    "        return -1 * self\n",
    "\n",
    "    def __iter__(self):\n",
    "        \"\"\"返回向量的迭代器\"\"\"\n",
    "        return self._values.__iter__()\n",
    "\n",
    "    def __getitem__(self, index):\n",
    "        \"\"\"取向量的第index个元素\"\"\"\n",
    "        return self._values[index]\n",
    "\n",
    "    def __len__(self):\n",
    "        \"\"\"返回向量长度（有多少个元素）\"\"\"\n",
    "        return len(self._values)\n",
    "\n",
    "    def __repr__(self):\n",
    "        return \"Vector({})\".format(self._values)\n",
    "\n",
    "    def __str__(self):\n",
    "        return \"({})\".format(\", \".join(str(e) for e in self._values))"
   ]
  },
  {
   "cell_type": "code",
   "execution_count": 7,
   "metadata": {},
   "outputs": [],
   "source": [
    "a = Vector([1, 2])\n",
    "b = Vector([3, 4])"
   ]
  },
  {
   "cell_type": "code",
   "execution_count": 8,
   "metadata": {},
   "outputs": [
    {
     "data": {
      "text/plain": [
       "Vector([4, 6])"
      ]
     },
     "execution_count": 8,
     "metadata": {},
     "output_type": "execute_result"
    }
   ],
   "source": [
    "a + b"
   ]
  },
  {
   "cell_type": "code",
   "execution_count": 9,
   "metadata": {},
   "outputs": [
    {
     "data": {
      "text/plain": [
       "Vector([-2, -2])"
      ]
     },
     "execution_count": 9,
     "metadata": {},
     "output_type": "execute_result"
    }
   ],
   "source": [
    "a - b"
   ]
  },
  {
   "cell_type": "code",
   "execution_count": 10,
   "metadata": {},
   "outputs": [
    {
     "data": {
      "text/plain": [
       "Vector([3, 6])"
      ]
     },
     "execution_count": 10,
     "metadata": {},
     "output_type": "execute_result"
    }
   ],
   "source": [
    "a * 3"
   ]
  },
  {
   "cell_type": "code",
   "execution_count": 11,
   "metadata": {},
   "outputs": [
    {
     "data": {
      "text/plain": [
       "Vector([3, 6])"
      ]
     },
     "execution_count": 11,
     "metadata": {},
     "output_type": "execute_result"
    }
   ],
   "source": [
    "3 * a"
   ]
  },
  {
   "cell_type": "code",
   "execution_count": 12,
   "metadata": {},
   "outputs": [
    {
     "data": {
      "text/plain": [
       "Vector([-1, -2])"
      ]
     },
     "execution_count": 12,
     "metadata": {},
     "output_type": "execute_result"
    }
   ],
   "source": [
    "-a"
   ]
  },
  {
   "cell_type": "markdown",
   "metadata": {},
   "source": [
    "### 零向量\n",
    "\n",
    "坐标原点，零向量没有方向，是一个点"
   ]
  },
  {
   "cell_type": "code",
   "execution_count": 13,
   "metadata": {},
   "outputs": [],
   "source": [
    "class Vector:\n",
    "\n",
    "    def __init__(self, lst):\n",
    "        self._values = list(lst)\n",
    "\n",
    "    @classmethod\n",
    "    def zero(cls, dim):\n",
    "        \"\"\"返回一个dim维的零向量\"\"\"\n",
    "        return cls([0] * dim)\n",
    "\n",
    "    def __add__(self, another):\n",
    "        \"\"\"向量加法，返回结果向量\"\"\"\n",
    "        assert len(self) == len(another), \\\n",
    "            \"Error in adding. Length of vectors must be same.\"\n",
    "\n",
    "        return Vector([a + b for a, b in zip(self, another)])\n",
    "\n",
    "    def __sub__(self, another):\n",
    "        \"\"\"向量减法，返回结果向量\"\"\"\n",
    "        assert len(self) == len(another), \\\n",
    "            \"Error in subtracting. Length of vectors must be same.\"\n",
    "\n",
    "        return Vector([a - b for a, b in zip(self, another)])\n",
    "\n",
    "    def __mul__(self, k):\n",
    "        \"\"\"返回数量乘法的结果向量：self * k\"\"\"\n",
    "        return Vector([k * e for e in self])\n",
    "\n",
    "    def __rmul__(self, k):\n",
    "        \"\"\"返回数量乘法的结果向量：k * self\"\"\"\n",
    "        return self * k\n",
    "\n",
    "    def __pos__(self):\n",
    "        \"\"\"返回向量取正的结果向量\"\"\"\n",
    "        return 1 * self\n",
    "\n",
    "    def __neg__(self):\n",
    "        \"\"\"返回向量取负的结果向量\"\"\"\n",
    "        return -1 * self\n",
    "\n",
    "    def __iter__(self):\n",
    "        \"\"\"返回向量的迭代器\"\"\"\n",
    "        return self._values.__iter__()\n",
    "\n",
    "    def __getitem__(self, index):\n",
    "        \"\"\"取向量的第index个元素\"\"\"\n",
    "        return self._values[index]\n",
    "\n",
    "    def __len__(self):\n",
    "        \"\"\"返回向量长度（有多少个元素）\"\"\"\n",
    "        return len(self._values)\n",
    "\n",
    "    def __repr__(self):\n",
    "        return \"Vector({})\".format(self._values)\n",
    "\n",
    "    def __str__(self):\n",
    "        return \"({})\".format(\", \".join(str(e) for e in self._values))\n"
   ]
  },
  {
   "cell_type": "code",
   "execution_count": 14,
   "metadata": {},
   "outputs": [
    {
     "data": {
      "text/plain": [
       "Vector([0, 0])"
      ]
     },
     "execution_count": 14,
     "metadata": {},
     "output_type": "execute_result"
    }
   ],
   "source": [
    "a = Vector([1, 2])\n",
    "a.zero(2)"
   ]
  },
  {
   "cell_type": "code",
   "execution_count": 1,
   "metadata": {},
   "outputs": [],
   "source": [
    "a='2'\n",
    "\n"
   ]
  },
  {
   "cell_type": "code",
   "execution_count": null,
   "metadata": {},
   "outputs": [],
   "source": []
  }
 ],
 "metadata": {
  "kernelspec": {
   "display_name": "Python 3",
   "language": "python",
   "name": "python3"
  },
  "language_info": {
   "codemirror_mode": {
    "name": "ipython",
    "version": 3
   },
   "file_extension": ".py",
   "mimetype": "text/x-python",
   "name": "python",
   "nbconvert_exporter": "python",
   "pygments_lexer": "ipython3",
   "version": "3.6.8"
  }
 },
 "nbformat": 4,
 "nbformat_minor": 4
}
